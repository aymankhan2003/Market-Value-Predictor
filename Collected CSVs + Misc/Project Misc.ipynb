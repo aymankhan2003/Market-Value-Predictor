{
 "cells": [
  {
   "cell_type": "code",
   "execution_count": null,
   "id": "5868c7f6-f2b9-4cb6-8ce7-b9ccad5c39f5",
   "metadata": {},
   "outputs": [],
   "source": [
    "#pre-processing pipeline\n",
    "from sklearn.pipeline import Pipeline\n",
    "from category_encoders.target_encoder import TargetEncoder\n",
    "from sklearn.preprocessing import StandardScaler\n",
    "from sklearn.linear_model import LassoCV\n",
    "\n",
    "sc = StandardScaler() \n",
    "te = TargetEncoder() #to feature engineer selling club and buying club averages, without data leakage\n",
    "    \n",
    "pre_process = Pipeline([\n",
    "    ('te', te),\n",
    "    ('sc', sc)\n",
    "\n",
    "])\n",
    "\n",
    "from sklearn.linear_model import Lasso\n",
    "estimator = Lasso(alpha = 0.01)\n",
    "mod_pipeline = Pipeline([\n",
    "    ('pre-process', pre_process),\n",
    "    ('estimator', estimator)\n",
    "])\n",
    "\n",
    "# cv = KFold(n_splits=5, shuffle=True, random_state=0)\n",
    "# scores = cross_val_score(mod_pipeline, X_train_fee, y_train_fee, cv = cv)\n",
    "\n",
    "# mod_pipeline.fit_transform(X_train_fee,y_train_fee)"
   ]
  },
  {
   "cell_type": "markdown",
   "id": "51a6e5c6-0005-45a5-8bda-449c87d95f25",
   "metadata": {},
   "source": [
    "# Bias Auditing"
   ]
  },
  {
   "cell_type": "code",
   "execution_count": 2528,
   "id": "f4fd3c5b-24fa-4784-86b6-679301503503",
   "metadata": {},
   "outputs": [],
   "source": [
    "## How do we choose the threshold for market value?; we could do an even tier system??"
   ]
  },
  {
   "cell_type": "code",
   "execution_count": 2529,
   "id": "d7e6884e-cd94-4810-9b44-da6ce48934a8",
   "metadata": {},
   "outputs": [
    {
     "data": {
      "text/plain": [
       "6735124.561403509"
      ]
     },
     "execution_count": 2529,
     "metadata": {},
     "output_type": "execute_result"
    }
   ],
   "source": [
    "value_all_players[\"Value\"].mean() #use the mean i guess"
   ]
  },
  {
   "cell_type": "code",
   "execution_count": 2530,
   "id": "28fffa6d-4173-4890-99ba-2db96eafa8e7",
   "metadata": {},
   "outputs": [],
   "source": [
    "#value_all_players[\"Value\"].median() #use the median, maybe; there's some crazy outliers pushing the mean up i guess"
   ]
  },
  {
   "cell_type": "code",
   "execution_count": 2531,
   "id": "b219df0d-c925-440f-963f-5493cc95495a",
   "metadata": {},
   "outputs": [],
   "source": [
    "#add value threshold and drop value, drop nationality (need a dataset with nationality), predict value threshold"
   ]
  },
  {
   "cell_type": "code",
   "execution_count": 2532,
   "id": "ee6bba7e-7685-4c6c-b18b-1f1faf990cb5",
   "metadata": {},
   "outputs": [],
   "source": [
    "value_all_players[\"ValueThreshold\"] = value_all_players['Value'] < 4100000.0"
   ]
  },
  {
   "cell_type": "code",
   "execution_count": 2533,
   "id": "d868598b-c2bc-4bf0-87f1-9f078eeed521",
   "metadata": {},
   "outputs": [],
   "source": [
    "from sklearn.model_selection import train_test_split\n",
    "all_train, all_test = train_test_split(value_all_players, test_size = .2, shuffle = True)\n",
    "\n",
    "#final_value_all_players = pd.DataFrame(at_test, columns = [\"Name\"])\n",
    "#final_value_all_players[\"actual\"] = at_test['Value'].copy()\n",
    "\n",
    "\n",
    "#getting the feature matrix and  target vector and deleting it from feature matrix\n",
    "\n",
    "X_train_all = all_train.dropna(how='any', inplace=True)\n",
    "X_train_all = all_train.drop([\"Value\"], axis = 1)\n",
    "X_train_all = all_train.drop([\"ValueThreshold\"], axis = 1)\n",
    "y_train_all = all_train[\"ValueThreshold\"]\n",
    "\n",
    "\n",
    "\n",
    "X_test_all = all_test.dropna(how='any', inplace=True)\n",
    "X_test_all = all_test.drop([\"Value\"], axis = 1)\n",
    "X_test_all = all_test.drop([\"ValueThreshold\"], axis = 1)\n",
    "y_test_all = all_test[\"ValueThreshold\"]\n",
    "\n",
    "X_train_all = X_train_all.drop([\"field_position\"], axis = 1)\n",
    "X_train_all = X_train_all.drop([\"Name\"], axis = 1)\n",
    "\n",
    "\n",
    "\n",
    "\n",
    "X_test_all = X_test_all.drop([\"field_position\"], axis = 1)\n",
    "X_test_all = X_test_all.drop([\"Name\"], axis = 1)"
   ]
  },
  {
   "cell_type": "code",
   "execution_count": 2534,
   "id": "18109b82-6b43-4b0c-a6cc-0f1ece7582a3",
   "metadata": {},
   "outputs": [],
   "source": [
    "#use classification model, try different ones"
   ]
  },
  {
   "cell_type": "code",
   "execution_count": 2535,
   "id": "6cf33c21-a759-4d39-9476-6b053a112d46",
   "metadata": {},
   "outputs": [
    {
     "data": {
      "text/plain": [
       "Pipeline(steps=[('standardscaler', StandardScaler()),\n",
       "                ('svc', SVC(gamma='auto'))])"
      ]
     },
     "execution_count": 2535,
     "metadata": {},
     "output_type": "execute_result"
    }
   ],
   "source": [
    "from sklearn.pipeline import make_pipeline\n",
    "from sklearn.preprocessing import StandardScaler\n",
    "from sklearn.svm import SVC\n",
    "clf_class = make_pipeline(StandardScaler(), SVC(gamma='auto'))\n",
    "clf_class.fit(X_train_all, y_train_all)"
   ]
  },
  {
   "cell_type": "code",
   "execution_count": 2536,
   "id": "c7db5812-8471-4e3e-a8d4-4f6cfd37ac03",
   "metadata": {},
   "outputs": [
    {
     "data": {
      "text/plain": [
       "0.9525691699604744"
      ]
     },
     "execution_count": 2536,
     "metadata": {},
     "output_type": "execute_result"
    }
   ],
   "source": [
    "clf_class.score(X_test_all, y_test_all)"
   ]
  },
  {
   "cell_type": "code",
   "execution_count": 2537,
   "id": "fad0f121-1a01-49d5-ab02-c3d432dee169",
   "metadata": {},
   "outputs": [],
   "source": [
    "#gather predictions\n",
    "predictions = clf_class.predict(X_test_all)\n",
    "actual = y_test_all"
   ]
  },
  {
   "cell_type": "code",
   "execution_count": 2538,
   "id": "86ace8bf-075a-432a-ade3-635a8bcce45c",
   "metadata": {},
   "outputs": [
    {
     "data": {
      "text/plain": [
       "0.9525691699604744"
      ]
     },
     "execution_count": 2538,
     "metadata": {},
     "output_type": "execute_result"
    }
   ],
   "source": [
    "(predictions == actual).mean()"
   ]
  },
  {
   "cell_type": "code",
   "execution_count": 2539,
   "id": "b541fd79-fb7d-44b4-acf9-b8e6d1959c2f",
   "metadata": {},
   "outputs": [],
   "source": [
    "bias_ds = all_test.copy()\n",
    "bias_ds.rename(columns={'ValueThreshold':'Actual'}, inplace=True) #rename ValueThreshold to Actual\n",
    "bias_ds[\"Predicted\"] = predictions"
   ]
  },
  {
   "cell_type": "code",
   "execution_count": 2540,
   "id": "055ad591-c44f-4ebf-a45b-2506be44d9b6",
   "metadata": {},
   "outputs": [
    {
     "data": {
      "text/html": [
       "<div>\n",
       "<style scoped>\n",
       "    .dataframe tbody tr th:only-of-type {\n",
       "        vertical-align: middle;\n",
       "    }\n",
       "\n",
       "    .dataframe tbody tr th {\n",
       "        vertical-align: top;\n",
       "    }\n",
       "\n",
       "    .dataframe thead th {\n",
       "        text-align: right;\n",
       "    }\n",
       "</style>\n",
       "<table border=\"1\" class=\"dataframe\">\n",
       "  <thead>\n",
       "    <tr style=\"text-align: right;\">\n",
       "      <th></th>\n",
       "      <th>Name</th>\n",
       "      <th>Age</th>\n",
       "      <th>Overall_rating</th>\n",
       "      <th>Potential</th>\n",
       "      <th>Years_Left</th>\n",
       "      <th>field_position</th>\n",
       "      <th>Total_stats</th>\n",
       "      <th>Value</th>\n",
       "      <th>Wage</th>\n",
       "      <th>Total_attacking</th>\n",
       "      <th>...</th>\n",
       "      <th>Weak_foot</th>\n",
       "      <th>Skill_moves</th>\n",
       "      <th>Pace_Diving</th>\n",
       "      <th>Shooting_Handling</th>\n",
       "      <th>Passing_Kicking</th>\n",
       "      <th>Dribbling_Reflexes</th>\n",
       "      <th>Defending_Pace</th>\n",
       "      <th>Physical_Positioning</th>\n",
       "      <th>Actual</th>\n",
       "      <th>Predicted</th>\n",
       "    </tr>\n",
       "  </thead>\n",
       "  <tbody>\n",
       "    <tr>\n",
       "      <th>3232</th>\n",
       "      <td>Bobô</td>\n",
       "      <td>33</td>\n",
       "      <td>73</td>\n",
       "      <td>73</td>\n",
       "      <td>1.0</td>\n",
       "      <td>Attacker</td>\n",
       "      <td>1775</td>\n",
       "      <td>2500000.0</td>\n",
       "      <td>15000.0</td>\n",
       "      <td>356</td>\n",
       "      <td>...</td>\n",
       "      <td>3</td>\n",
       "      <td>3</td>\n",
       "      <td>64</td>\n",
       "      <td>73</td>\n",
       "      <td>63</td>\n",
       "      <td>69</td>\n",
       "      <td>29</td>\n",
       "      <td>68</td>\n",
       "      <td>True</td>\n",
       "      <td>True</td>\n",
       "    </tr>\n",
       "    <tr>\n",
       "      <th>3445</th>\n",
       "      <td>Víctor Díaz</td>\n",
       "      <td>30</td>\n",
       "      <td>72</td>\n",
       "      <td>72</td>\n",
       "      <td>3.0</td>\n",
       "      <td>Defender</td>\n",
       "      <td>1893</td>\n",
       "      <td>2200000.0</td>\n",
       "      <td>7000.0</td>\n",
       "      <td>302</td>\n",
       "      <td>...</td>\n",
       "      <td>3</td>\n",
       "      <td>3</td>\n",
       "      <td>71</td>\n",
       "      <td>56</td>\n",
       "      <td>65</td>\n",
       "      <td>66</td>\n",
       "      <td>69</td>\n",
       "      <td>79</td>\n",
       "      <td>True</td>\n",
       "      <td>True</td>\n",
       "    </tr>\n",
       "    <tr>\n",
       "      <th>1582</th>\n",
       "      <td>Ó. Trejo</td>\n",
       "      <td>30</td>\n",
       "      <td>76</td>\n",
       "      <td>76</td>\n",
       "      <td>1.0</td>\n",
       "      <td>Midfielder</td>\n",
       "      <td>2080</td>\n",
       "      <td>7000000.0</td>\n",
       "      <td>20000.0</td>\n",
       "      <td>357</td>\n",
       "      <td>...</td>\n",
       "      <td>4</td>\n",
       "      <td>4</td>\n",
       "      <td>70</td>\n",
       "      <td>72</td>\n",
       "      <td>74</td>\n",
       "      <td>80</td>\n",
       "      <td>65</td>\n",
       "      <td>74</td>\n",
       "      <td>False</td>\n",
       "      <td>False</td>\n",
       "    </tr>\n",
       "  </tbody>\n",
       "</table>\n",
       "<p>3 rows × 60 columns</p>\n",
       "</div>"
      ],
      "text/plain": [
       "             Name  Age  Overall_rating  Potential  Years_Left field_position  \\\n",
       "3232         Bobô   33              73         73         1.0       Attacker   \n",
       "3445  Víctor Díaz   30              72         72         3.0       Defender   \n",
       "1582     Ó. Trejo   30              76         76         1.0     Midfielder   \n",
       "\n",
       "      Total_stats      Value     Wage  Total_attacking  ...  Weak_foot  \\\n",
       "3232         1775  2500000.0  15000.0              356  ...          3   \n",
       "3445         1893  2200000.0   7000.0              302  ...          3   \n",
       "1582         2080  7000000.0  20000.0              357  ...          4   \n",
       "\n",
       "      Skill_moves  Pace_Diving  Shooting_Handling  Passing_Kicking  \\\n",
       "3232            3           64                 73               63   \n",
       "3445            3           71                 56               65   \n",
       "1582            4           70                 72               74   \n",
       "\n",
       "      Dribbling_Reflexes  Defending_Pace  Physical_Positioning  Actual  \\\n",
       "3232                  69              29                    68    True   \n",
       "3445                  66              69                    79    True   \n",
       "1582                  80              65                    74   False   \n",
       "\n",
       "      Predicted  \n",
       "3232       True  \n",
       "3445       True  \n",
       "1582      False  \n",
       "\n",
       "[3 rows x 60 columns]"
      ]
     },
     "execution_count": 2540,
     "metadata": {},
     "output_type": "execute_result"
    }
   ],
   "source": [
    "bias_ds.head(3)"
   ]
  },
  {
   "cell_type": "code",
   "execution_count": 2541,
   "id": "6fbb9347-0164-4af2-aa37-91fb374c8538",
   "metadata": {},
   "outputs": [],
   "source": [
    "group_test = bias_ds[\"field_position\"]"
   ]
  },
  {
   "cell_type": "code",
   "execution_count": 2542,
   "id": "3333330b-6574-4856-8d6c-f03bfcf2fbec",
   "metadata": {},
   "outputs": [
    {
     "data": {
      "text/plain": [
       "3232     True\n",
       "3445    False\n",
       "1582    False\n",
       "5674    False\n",
       "1494    False\n",
       "        ...  \n",
       "3096    False\n",
       "2770    False\n",
       "2127    False\n",
       "4870    False\n",
       "5202    False\n",
       "Name: field_position, Length: 1012, dtype: bool"
      ]
     },
     "execution_count": 2542,
     "metadata": {},
     "output_type": "execute_result"
    }
   ],
   "source": [
    "group_test == \"Attacker\""
   ]
  },
  {
   "cell_type": "markdown",
   "id": "a2e59990-8962-4def-a87d-97fe7ff2d17c",
   "metadata": {},
   "source": [
    "### Calibration"
   ]
  },
  {
   "cell_type": "markdown",
   "id": "95d423e0-a384-48fc-963c-304d6a1a4b18",
   "metadata": {},
   "source": [
    "As defined by Chouldechova in [this paper](https://via.hypothes.is/https://arxiv.org/pdf/1703.00056.pdf), \"a score S = S(x) is said to be well-calibrated if it reflects the same\n",
    "likelihood of recidivism irrespective of the individuals’ group membership.\"\n",
    "\n",
    "In our context, when we are doing binary classification for sex-based income, the calibration takes on the form of the PPV.\n",
    "Namely, our model would be well-calibrated if the fraction of predicted individuals making >\\\\$50k who actually make >\\\\$50k is the same across groups."
   ]
  },
  {
   "cell_type": "code",
   "execution_count": 2543,
   "id": "ecdf23b9-945f-4e1b-8891-48a655dbd82e",
   "metadata": {},
   "outputs": [],
   "source": [
    "bias_ds_calibration = bias_ds.query(\"Predicted == True\")"
   ]
  },
  {
   "cell_type": "code",
   "execution_count": 2544,
   "id": "fc7390ac-3e38-47e8-84a6-8dfe65cc0a38",
   "metadata": {},
   "outputs": [],
   "source": [
    "bias_ds_calibration = bias_ds_calibration.groupby([\"field_position\", \"Predicted\"])[\"Actual\"].mean().reset_index(name = \"mean\")"
   ]
  },
  {
   "cell_type": "code",
   "execution_count": 2545,
   "id": "0235652c-d7d2-4e60-a318-c758ab716b43",
   "metadata": {},
   "outputs": [
    {
     "data": {
      "image/png": "[encoded data removed]",
      "text/plain": [
       "<Figure size 500x500 with 1 Axes>"
      ]
     },
     "metadata": {},
     "output_type": "display_data"
    }
   ],
   "source": [
    "sns.set_theme(style=\"whitegrid\")\n",
    "\n",
    "p = sns.catplot(data = bias_ds_calibration, kind = \"bar\", x = \"Predicted\", y = \"mean\", hue = \"field_position\", legend_out = False)\n",
    "new_labels = ['Male', 'Female']\n",
    "for t, l in zip(p._legend.texts, new_labels):\n",
    "    t.set_text(l)\n",
    "\n",
    "sns.move_legend(p, \"lower right\")"
   ]
  },
  {
   "cell_type": "markdown",
   "id": "dedde249-d7c5-4fa3-a1cf-6e9736f1af93",
   "metadata": {
    "tags": []
   },
   "source": [
    "### Error Rate Balance"
   ]
  },
  {
   "cell_type": "code",
   "execution_count": 2546,
   "id": "b4d1b0bc-2e89-44bf-83b4-7470fcdd10f6",
   "metadata": {},
   "outputs": [
    {
     "data": {
      "image/png": "[encoded data removed]",
      "text/plain": [
       "<Figure size 1500x320 with 10 Axes>"
      ]
     },
     "metadata": {},
     "output_type": "display_data"
    }
   ],
   "source": [
    "from sklearn.metrics import confusion_matrix\n",
    "from sklearn.metrics import ConfusionMatrixDisplay\n",
    "fig, axarr = plt.subplots(1, 5, figsize=(15,3.2), sharex = False, sharey = False)\n",
    "\n",
    "cm1 = confusion_matrix(actual, predictions, labels=clf_class.classes_, normalize = \"true\")\n",
    "disp1 = ConfusionMatrixDisplay(confusion_matrix=cm1,\n",
    "                              display_labels=clf_class.classes_)\n",
    "\n",
    "cm2 = confusion_matrix(actual[group_test == \"Attacker\"], predictions[group_test == \"Attacker\"], labels=clf_class.classes_, normalize = \"true\")\n",
    "disp2 = ConfusionMatrixDisplay(confusion_matrix=cm2,\n",
    "                              display_labels=clf_class.classes_)\n",
    "\n",
    "\n",
    "cm3 = confusion_matrix(actual[group_test == \"Midfielder\"], predictions[group_test == \"Midfielder\"], labels=clf_class.classes_, normalize = \"true\")\n",
    "disp3 = ConfusionMatrixDisplay(confusion_matrix=cm3,\n",
    "                              display_labels=clf_class.classes_)\n",
    "\n",
    "cm4 = confusion_matrix(actual[group_test == \"Defender\"], predictions[group_test == \"Defender\"], labels=clf_class.classes_, normalize = \"true\")\n",
    "disp4 = ConfusionMatrixDisplay(confusion_matrix=cm4,\n",
    "                              display_labels=clf_class.classes_)\n",
    "\n",
    "cm5 = confusion_matrix(actual[group_test == \"Goalkeeper\"], predictions[group_test == \"Goalkeeper\"], labels=clf_class.classes_, normalize = \"true\")\n",
    "disp5 = ConfusionMatrixDisplay(confusion_matrix=cm5,\n",
    "                              display_labels=clf_class.classes_)\n",
    "\n",
    "disp1.plot(ax=axarr[0], cmap = plt.cm.Blues)\n",
    "axarr[0].grid(visible=None)\n",
    "\n",
    "disp2.plot(ax=axarr[1], cmap = plt.cm.Blues)\n",
    "axarr[1].grid(visible=None)\n",
    "\n",
    "disp3.plot(ax=axarr[2], cmap = plt.cm.Blues)\n",
    "axarr[2].grid(visible=None)\n",
    "\n",
    "disp4.plot(ax=axarr[3], cmap = plt.cm.Blues)\n",
    "axarr[3].grid(visible=None)\n",
    "\n",
    "disp5.plot(ax=axarr[4], cmap = plt.cm.Blues)\n",
    "axarr[4].grid(visible=None)"
   ]
  },
  {
   "cell_type": "markdown",
   "id": "09856040-2c8c-42ae-b277-99c01e95e5af",
   "metadata": {},
   "source": [
    "## Statistical Parity"
   ]
  },
  {
   "cell_type": "code",
   "execution_count": 2547,
   "id": "f89d0495-35bb-4570-9f55-f2ba850467a0",
   "metadata": {},
   "outputs": [],
   "source": [
    "bias_ds_statParity = bias_ds.groupby([\"field_position\"], as_index=False)[\"Predicted\"].value_counts(normalize = True) #normalize = True not working sadly"
   ]
  },
  {
   "cell_type": "code",
   "execution_count": 2548,
   "id": "451737c7-8845-4fca-ad79-bd56def4c4a7",
   "metadata": {},
   "outputs": [
    {
     "data": {
      "text/html": [
       "<div>\n",
       "<style scoped>\n",
       "    .dataframe tbody tr th:only-of-type {\n",
       "        vertical-align: middle;\n",
       "    }\n",
       "\n",
       "    .dataframe tbody tr th {\n",
       "        vertical-align: top;\n",
       "    }\n",
       "\n",
       "    .dataframe thead th {\n",
       "        text-align: right;\n",
       "    }\n",
       "</style>\n",
       "<table border=\"1\" class=\"dataframe\">\n",
       "  <thead>\n",
       "    <tr style=\"text-align: right;\">\n",
       "      <th></th>\n",
       "      <th>field_position</th>\n",
       "      <th>Predicted</th>\n",
       "      <th>proportion</th>\n",
       "    </tr>\n",
       "  </thead>\n",
       "  <tbody>\n",
       "    <tr>\n",
       "      <th>0</th>\n",
       "      <td>Attacker</td>\n",
       "      <td>True</td>\n",
       "      <td>0.514085</td>\n",
       "    </tr>\n",
       "    <tr>\n",
       "      <th>1</th>\n",
       "      <td>Attacker</td>\n",
       "      <td>False</td>\n",
       "      <td>0.485915</td>\n",
       "    </tr>\n",
       "    <tr>\n",
       "      <th>2</th>\n",
       "      <td>Defender</td>\n",
       "      <td>True</td>\n",
       "      <td>0.524242</td>\n",
       "    </tr>\n",
       "    <tr>\n",
       "      <th>3</th>\n",
       "      <td>Defender</td>\n",
       "      <td>False</td>\n",
       "      <td>0.475758</td>\n",
       "    </tr>\n",
       "    <tr>\n",
       "      <th>4</th>\n",
       "      <td>Goalkeeper</td>\n",
       "      <td>True</td>\n",
       "      <td>0.640777</td>\n",
       "    </tr>\n",
       "    <tr>\n",
       "      <th>5</th>\n",
       "      <td>Goalkeeper</td>\n",
       "      <td>False</td>\n",
       "      <td>0.359223</td>\n",
       "    </tr>\n",
       "    <tr>\n",
       "      <th>6</th>\n",
       "      <td>Midfielder</td>\n",
       "      <td>False</td>\n",
       "      <td>0.593220</td>\n",
       "    </tr>\n",
       "    <tr>\n",
       "      <th>7</th>\n",
       "      <td>Midfielder</td>\n",
       "      <td>True</td>\n",
       "      <td>0.406780</td>\n",
       "    </tr>\n",
       "  </tbody>\n",
       "</table>\n",
       "</div>"
      ],
      "text/plain": [
       "  field_position  Predicted  proportion\n",
       "0       Attacker       True    0.514085\n",
       "1       Attacker      False    0.485915\n",
       "2       Defender       True    0.524242\n",
       "3       Defender      False    0.475758\n",
       "4     Goalkeeper       True    0.640777\n",
       "5     Goalkeeper      False    0.359223\n",
       "6     Midfielder      False    0.593220\n",
       "7     Midfielder       True    0.406780"
      ]
     },
     "execution_count": 2548,
     "metadata": {},
     "output_type": "execute_result"
    }
   ],
   "source": [
    "bias_ds_statParity #query it just for true"
   ]
  },
  {
   "cell_type": "code",
   "execution_count": 2549,
   "id": "bb264c60-e0a5-4990-b1cd-71064ac770aa",
   "metadata": {},
   "outputs": [
    {
     "data": {
      "image/png": "[encoded data removed]",
      "text/plain": [
       "<Figure size 500x500 with 1 Axes>"
      ]
     },
     "metadata": {},
     "output_type": "display_data"
    }
   ],
   "source": [
    "sns.set_theme(style=\"whitegrid\")\n",
    "\n",
    "p = sns.catplot(data = bias_ds_statParity, kind = \"bar\", x = \"Predicted\", y = \"proportion\", hue = \"field_position\", legend_out = False)\n",
    "\n",
    "\n",
    "sns.move_legend(p, \"center right\")"
   ]
  },
  {
   "cell_type": "markdown",
   "id": "551a28ee-e88b-4024-b8e7-d80ef81eef93",
   "metadata": {
    "tags": []
   },
   "source": [
    "### Calibration"
   ]
  },
  {
   "cell_type": "markdown",
   "id": "a3817c4a-7801-488e-a558-62310d4957d4",
   "metadata": {},
   "source": [
    "As defined by Chouldechova in [this paper](https://via.hypothes.is/https://arxiv.org/pdf/1703.00056.pdf), \"a score S = S(x) is said to be well-calibrated if it reflects the same\n",
    "likelihood of recidivism irrespective of the individuals’ group membership.\"\n",
    "\n",
    "In our context, when we are doing binary classification for sex-based income, the calibration takes on the form of the PPV.\n",
    "Namely, our model would be well-calibrated if the fraction of predicted individuals making >\\\\$50k who actually make >\\\\$50k is the same across groups."
   ]
  },
  {
   "cell_type": "code",
   "execution_count": 333,
   "id": "55c00cd9-4f09-44af-9863-703be427428e",
   "metadata": {},
   "outputs": [],
   "source": [
    "bias_ds_calibration_tf = bias_tf_ds.query(\"Predicted == True\")"
   ]
  },
  {
   "cell_type": "code",
   "execution_count": 334,
   "id": "2549aab2-ca29-48ff-a50c-76b7335134d8",
   "metadata": {},
   "outputs": [],
   "source": [
    "bias_ds_calibration_tf = bias_ds_calibration_tf.groupby([\"nationality_name\", \"Predicted\"])[\"Actual\"].mean().reset_index(name = \"mean\")"
   ]
  },
  {
   "cell_type": "code",
   "execution_count": 335,
   "id": "05401971-0c5f-4da8-bd1c-7435d076c700",
   "metadata": {},
   "outputs": [
    {
     "data": {
      "image/png": "[encoded data removed]",
      "text/plain": [
       "<Figure size 500x500 with 1 Axes>"
      ]
     },
     "metadata": {},
     "output_type": "display_data"
    }
   ],
   "source": [
    "sns.set_theme(style=\"whitegrid\")\n",
    "\n",
    "p = sns.catplot(data = bias_ds_calibration_tf, kind = \"bar\", x = \"Predicted\", y = \"mean\", hue = \"nationality_name\", legend_out = False)\n",
    "new_labels = ['Male', 'Female']\n",
    "for t, l in zip(p._legend.texts, new_labels):\n",
    "    t.set_text(l)\n",
    "\n",
    "sns.move_legend(p, \"lower right\")"
   ]
  },
  {
   "cell_type": "markdown",
   "id": "eb7b870b-929c-49fd-96c7-781bb2cacef7",
   "metadata": {
    "tags": []
   },
   "source": [
    "### Error Rate Balance"
   ]
  },
  {
   "cell_type": "code",
   "execution_count": 1789,
   "id": "ce697f46-ff35-4109-8051-732f69df7970",
   "metadata": {},
   "outputs": [
    {
     "data": {
      "image/png": "[encoded data removed]",
      "text/plain": [
       "<Figure size 1500x320 with 10 Axes>"
      ]
     },
     "metadata": {},
     "output_type": "display_data"
    }
   ],
   "source": [
    "from sklearn.metrics import confusion_matrix\n",
    "from sklearn.metrics import ConfusionMatrixDisplay\n",
    "fig, axarr = plt.subplots(1, 5, figsize=(15,3.2), sharex = False, sharey = False)\n",
    "\n",
    "cm1 = confusion_matrix(actual, predictions, labels=clf_class.classes_, normalize = \"true\")\n",
    "disp1 = ConfusionMatrixDisplay(confusion_matrix=cm1,\n",
    "                              display_labels=clf_class.classes_)\n",
    "\n",
    "cm2 = confusion_matrix(actual[group_test == \"Attacker\"], predictions[group_test == \"Attacker\"], labels=clf_class.classes_, normalize = \"true\")\n",
    "disp2 = ConfusionMatrixDisplay(confusion_matrix=cm2,\n",
    "                              display_labels=clf_class.classes_)\n",
    "\n",
    "\n",
    "cm3 = confusion_matrix(actual[group_test == \"Midfielder\"], predictions[group_test == \"Midfielder\"], labels=clf_class.classes_, normalize = \"true\")\n",
    "disp3 = ConfusionMatrixDisplay(confusion_matrix=cm3,\n",
    "                              display_labels=clf_class.classes_)\n",
    "\n",
    "cm4 = confusion_matrix(actual[group_test == \"Defender\"], predictions[group_test == \"Defender\"], labels=clf_class.classes_, normalize = \"true\")\n",
    "disp4 = ConfusionMatrixDisplay(confusion_matrix=cm4,\n",
    "                              display_labels=clf_class.classes_)\n",
    "\n",
    "cm5 = confusion_matrix(actual[group_test == \"Goalkeeper\"], predictions[group_test == \"Goalkeeper\"], labels=clf_class.classes_, normalize = \"true\")\n",
    "disp5 = ConfusionMatrixDisplay(confusion_matrix=cm5,\n",
    "                              display_labels=clf_class.classes_)\n",
    "\n",
    "disp1.plot(ax=axarr[0], cmap = plt.cm.Blues)\n",
    "axarr[0].grid(visible=None)\n",
    "\n",
    "disp2.plot(ax=axarr[1], cmap = plt.cm.Blues)\n",
    "axarr[1].grid(visible=None)\n",
    "\n",
    "disp3.plot(ax=axarr[2], cmap = plt.cm.Blues)\n",
    "axarr[2].grid(visible=None)\n",
    "\n",
    "disp4.plot(ax=axarr[3], cmap = plt.cm.Blues)\n",
    "axarr[3].grid(visible=None)\n",
    "\n",
    "disp5.plot(ax=axarr[4], cmap = plt.cm.Blues)\n",
    "axarr[4].grid(visible=None)"
   ]
  },
  {
   "cell_type": "markdown",
   "id": "c0650314-36d3-4ca7-9fd3-70129d2c2860",
   "metadata": {},
   "source": [
    "## Statistical Parity"
   ]
  },
  {
   "cell_type": "code",
   "execution_count": 44,
   "id": "7f921dee-aecf-43b2-95d2-5554928a7cd4",
   "metadata": {},
   "outputs": [],
   "source": [
    "bias_ds_statParity = bias_ds.groupby([\"field_position\"], as_index=False)[\"Predicted\"].value_counts(normalize = True) #normalize = True not working sadly"
   ]
  },
  {
   "cell_type": "code",
   "execution_count": 45,
   "id": "d3009e13-0961-4fd9-836f-76950eea3ceb",
   "metadata": {},
   "outputs": [
    {
     "data": {
      "text/html": [
       "<div>\n",
       "<style scoped>\n",
       "    .dataframe tbody tr th:only-of-type {\n",
       "        vertical-align: middle;\n",
       "    }\n",
       "\n",
       "    .dataframe tbody tr th {\n",
       "        vertical-align: top;\n",
       "    }\n",
       "\n",
       "    .dataframe thead th {\n",
       "        text-align: right;\n",
       "    }\n",
       "</style>\n",
       "<table border=\"1\" class=\"dataframe\">\n",
       "  <thead>\n",
       "    <tr style=\"text-align: right;\">\n",
       "      <th></th>\n",
       "      <th>field_position</th>\n",
       "      <th>Predicted</th>\n",
       "      <th>proportion</th>\n",
       "    </tr>\n",
       "  </thead>\n",
       "  <tbody>\n",
       "    <tr>\n",
       "      <th>0</th>\n",
       "      <td>Attacker</td>\n",
       "      <td>False</td>\n",
       "      <td>0.572464</td>\n",
       "    </tr>\n",
       "    <tr>\n",
       "      <th>1</th>\n",
       "      <td>Attacker</td>\n",
       "      <td>True</td>\n",
       "      <td>0.427536</td>\n",
       "    </tr>\n",
       "    <tr>\n",
       "      <th>2</th>\n",
       "      <td>Defender</td>\n",
       "      <td>True</td>\n",
       "      <td>0.548495</td>\n",
       "    </tr>\n",
       "    <tr>\n",
       "      <th>3</th>\n",
       "      <td>Defender</td>\n",
       "      <td>False</td>\n",
       "      <td>0.451505</td>\n",
       "    </tr>\n",
       "    <tr>\n",
       "      <th>4</th>\n",
       "      <td>Goalkeeper</td>\n",
       "      <td>True</td>\n",
       "      <td>0.626263</td>\n",
       "    </tr>\n",
       "    <tr>\n",
       "      <th>5</th>\n",
       "      <td>Goalkeeper</td>\n",
       "      <td>False</td>\n",
       "      <td>0.373737</td>\n",
       "    </tr>\n",
       "    <tr>\n",
       "      <th>6</th>\n",
       "      <td>Midfielder</td>\n",
       "      <td>False</td>\n",
       "      <td>0.534591</td>\n",
       "    </tr>\n",
       "    <tr>\n",
       "      <th>7</th>\n",
       "      <td>Midfielder</td>\n",
       "      <td>True</td>\n",
       "      <td>0.465409</td>\n",
       "    </tr>\n",
       "  </tbody>\n",
       "</table>\n",
       "</div>"
      ],
      "text/plain": [
       "  field_position  Predicted  proportion\n",
       "0       Attacker      False    0.572464\n",
       "1       Attacker       True    0.427536\n",
       "2       Defender       True    0.548495\n",
       "3       Defender      False    0.451505\n",
       "4     Goalkeeper       True    0.626263\n",
       "5     Goalkeeper      False    0.373737\n",
       "6     Midfielder      False    0.534591\n",
       "7     Midfielder       True    0.465409"
      ]
     },
     "execution_count": 45,
     "metadata": {},
     "output_type": "execute_result"
    }
   ],
   "source": [
    "bias_ds_statParity #query it just for true"
   ]
  },
  {
   "cell_type": "code",
   "execution_count": 49,
   "id": "52b9aed0-30c1-4c22-88d3-e7451a9fc5a5",
   "metadata": {},
   "outputs": [
    {
     "data": {
      "image/png": "[encoded data removed]",
      "text/plain": [
       "<Figure size 500x500 with 1 Axes>"
      ]
     },
     "metadata": {},
     "output_type": "display_data"
    }
   ],
   "source": [
    "sns.set_theme(style=\"whitegrid\")\n",
    "\n",
    "p = sns.catplot(data = bias_ds_statParity, kind = \"bar\", x = \"Predicted\", y = \"proportion\", hue = \"field_position\", legend_out = False)\n",
    "new_labels = ['Male', 'Female']\n",
    "for t, l in zip(p._legend.texts, new_labels):\n",
    "    t.set_text(l)\n",
    "\n",
    "sns.move_legend(p, \"center right\")"
   ]
  },
  {
   "cell_type": "code",
   "execution_count": null,
   "id": "85c4fdda-2caa-4571-92d9-ebc43dfbc7f5",
   "metadata": {},
   "outputs": [],
   "source": [
    "#all features time to run vs. feature selection time to run"
   ]
  },
  {
   "cell_type": "code",
   "execution_count": null,
   "id": "f620aef2-a3e1-430e-8624-69fae1566efd",
   "metadata": {},
   "outputs": [],
   "source": [
    "X_train_value.iloc[:, 0:3] #get all rows for certain columns; use this in the loop, but no b/cuz we need to go from most important to least important"
   ]
  },
  {
   "cell_type": "code",
   "execution_count": null,
   "id": "5ed0a041-cbd0-46ca-9af0-f7489776c44a",
   "metadata": {},
   "outputs": [],
   "source": [
    "((ordered_mutual_info).index[0]) #use this to loop\n",
    "\n",
    "#X_train_value.iloc[:, 0:ordered_mutual_info.index[0]]"
   ]
  },
  {
   "cell_type": "code",
   "execution_count": null,
   "id": "09c49f24-841d-4d37-b762-38cf57309085",
   "metadata": {},
   "outputs": [],
   "source": [
    "# #effect of overfitting, keeping # features constant and increasing samples (good for when we get new dataset);\n",
    "\n",
    "# #effect of overfitting, keeping # samples constant and increasing features (good for when we get new dataset);\n",
    "\n",
    "\n",
    "# #initialize arrays to store scores\n",
    "# train_score_hist = []\n",
    "# cv_score_hist = []\n",
    "\n",
    "\n",
    "# #loop through features:\n",
    "# for i in range(1, len(ordered_mutual_info)):\n",
    "#     #fit on training; I don't think I should refit everytime!!!!!\n",
    "#     L6 = Lasso(alpha = 1) \n",
    "#     L6.fit(X_train_value.iloc[:, 0:ordered_mutual_info.index[i]], y_train_value.iloc[0:i])\n",
    "    \n",
    "#     #score on training\n",
    "#     #print(L6.score(X_train_fee.iloc[0:i],y_train_fee.iloc[0:i]))\n",
    "#     train_score_hist.append(L6.score(X_train_fee.iloc[:, 0:i],y_train_value.iloc[:, 0:i]))  #update model's training score\n",
    "    \n",
    "#     #cross-validation\n",
    "#     cv_score_hist.append(cross_val_score(L6, X_train_fee.iloc[0:i], y_train_fee.iloc[0:i], cv=5).mean())\n",
    " \n",
    "\n",
    "#     #Graph it\n",
    "#     num_steps = len(train_score_hist)\n",
    "#     plt.plot(np.arange(num_steps) + 1, cv_score_hist, label = \"cross_val\")\n",
    "\n",
    "#     num_steps = len(train_score_hist)\n",
    "#     plt.plot(np.arange(num_steps) + 1, train_score_hist, label = \"train\")\n",
    "\n",
    "#     plt.ylim([0, 1])\n",
    "#     #change x to be in batches of 5\n",
    "#     labels = plt.gca().set(title = \"Scores vs. Samples\", xlabel = \"# of Samples (in batches of 5)\", ylabel = \"Score\")\n",
    "\n",
    "\n",
    "    \n",
    "# #loop through features:\n",
    "\n",
    "# #for i in rang\n",
    "\n",
    "# #effect of overfitting, w/ our # of samples, changing the number of features "
   ]
  },
  {
   "cell_type": "markdown",
   "id": "17f8090c-cf8e-43f5-a8a7-b951c28fb065",
   "metadata": {
    "tags": []
   },
   "source": [
    "### Modeling Results"
   ]
  },
  {
   "cell_type": "code",
   "execution_count": 71,
   "id": "5c5774ac-bc87-4d0e-b9d2-3cd1ee2bfb25",
   "metadata": {},
   "outputs": [
    {
     "name": "stdout",
     "output_type": "stream",
     "text": [
      "The model's score on the holdout test set is 0.760786694348303\n",
      "The model's 5-fold cross-validation score is 0.7402369771293392\n",
      "Top 5 features that contribute the MOST to predicting transfer fee paid:\n",
      "Index(['fee_cleaned_buyer_avg', 'potential', 'fee_cleaned_seller_avg',\n",
      "       'value_eur', 'age'],\n",
      "      dtype='object')\n"
     ]
    }
   ],
   "source": [
    "from sklearn.ensemble import RandomForestRegressor\n",
    "rfr = RandomForestRegressor(max_depth=7, random_state=0)\n",
    "rfr.fit(X_train_fee_sel, y_train_fee)\n",
    "\n",
    "\n",
    "from sklearn.model_selection import cross_val_score\n",
    "model_scores = cross_val_score(rfr, X_train_fee_sel, y_train_fee, cv=5)\n",
    "print(f\"The model's 5-fold cross-validation score is {(model_scores.mean())}\")\n",
    "\n",
    "sorted_ascend_params = np.argsort(rfr.feature_importances_) #Returns the indices that would sort an array in ascending order\n",
    "sorted_descend_params = list(reversed(sorted_ascend_params))\n",
    "print(\"Top 5 features that contribute the MOST to predicting transfer fee paid:\")\n",
    "print(X_train_fee_sel.columns[sorted_descend_params[:5]]) #use as column names ; #match "
   ]
  },
  {
   "cell_type": "code",
   "execution_count": 147,
   "id": "930b0d89-0773-46d2-95dc-06d3f2847f64",
   "metadata": {},
   "outputs": [
    {
     "name": "stdout",
     "output_type": "stream",
     "text": [
      "The model's score on the holdout test set is 0.6851688282234115\n",
      "The model's 5-fold cross-validation score are [0.80830407 0.35757525 0.80080656 0.49461904 0.82017666]\n",
      "Top 5 features that contribute the MOST to predicting transfer fee paid:\n",
      "Index(['fee_cleaned_buyer_avg', 'fee_cleaned_seller_avg', 'value_eur',\n",
      "       'potential', 'age'],\n",
      "      dtype='object')\n"
     ]
    }
   ],
   "source": [
    "from sklearn.linear_model import ElasticNet\n",
    "L = ElasticNet(alpha = 0.01)\n",
    "L.fit(X_train_fee_sel, y_train_fee)\n",
    "print(f\"The model's score on the holdout test set is {L.score(X_test_fee_sel, y_test_fee)}\")\n",
    "\n",
    "from sklearn.model_selection import cross_val_score\n",
    "model_scores = cross_val_score(L, X_train_fee_sel, y_train_fee, cv=5)\n",
    "print(f\"The model's 5-fold cross-validation score are {(model_scores)}\")\n",
    "\n",
    "sorted_ascend_params = np.argsort(L.coef_) #Returns the indices that would sort an array in ascending order\n",
    "sorted_descend_params = list(reversed(sorted_ascend_params))\n",
    "print(\"Top 5 features that contribute the MOST to predicting transfer fee paid:\")\n",
    "print(X_test_fee_sel.columns[sorted_descend_params[:5]]) #use as column names ; #match "
   ]
  },
  {
   "cell_type": "markdown",
   "id": "5109f48f-40bb-4d35-8c36-46a9de5f2bb8",
   "metadata": {
    "jp-MarkdownHeadingCollapsed": true,
    "tags": []
   },
   "source": [
    "## Model Performance hmm, don't need this here!"
   ]
  },
  {
   "cell_type": "markdown",
   "id": "50572656-e650-4ce7-9f68-375da55706bc",
   "metadata": {
    "tags": []
   },
   "source": [
    "## Model Performance hmm, don't need this here!"
   ]
  },
  {
   "cell_type": "code",
   "execution_count": 48,
   "id": "dc3955c1-dd31-4951-a920-53d53acd3b5a",
   "metadata": {},
   "outputs": [
    {
     "ename": "NameError",
     "evalue": "name 'LR' is not defined",
     "output_type": "error",
     "traceback": [
      "\u001b[0;31m---------------------------------------------------------------------------\u001b[0m",
      "\u001b[0;31mNameError\u001b[0m                                 Traceback (most recent call last)",
      "Cell \u001b[0;32mIn[48], line 50\u001b[0m\n\u001b[1;32m     46\u001b[0m L\u001b[38;5;241m.\u001b[39mfit(X_train_value_sel, y_train_value)\n\u001b[1;32m     47\u001b[0m L_pf\u001b[38;5;241m.\u001b[39mappend(L\u001b[38;5;241m.\u001b[39mscore(X_test_value_sel, y_test_value))\n\u001b[0;32m---> 50\u001b[0m model_scores \u001b[38;5;241m=\u001b[39m cross_val_score(\u001b[43mLR\u001b[49m, X_train_value_sel, y_train_value, cv\u001b[38;5;241m=\u001b[39m\u001b[38;5;241m5\u001b[39m)\n\u001b[1;32m     51\u001b[0m L_pf_cv\u001b[38;5;241m.\u001b[39mappend((model_scores\u001b[38;5;241m.\u001b[39mmean()))\n",
      "\u001b[0;31mNameError\u001b[0m: name 'LR' is not defined"
     ]
    }
   ],
   "source": [
    "#test set score arrays\n",
    "L_pf = []\n",
    "\n",
    "#cross-val score arrays\n",
    "L_pf_cv = []\n",
    "\n",
    "\n",
    "for i in range(1,10):\n",
    "    #prepare for modeling\n",
    "    \n",
    "    from sklearn.model_selection import train_test_split\n",
    "    value_all_train, value_all_test = train_test_split(value_all_players, test_size = .2, shuffle = True)\n",
    "\n",
    "    #dropping categeorical info we won't use for modeling\n",
    "    value_all_train = value_all_train.drop([\"Name\", \"field_position\"], axis = 1)\n",
    "    value_all_test = value_all_test.drop([\"Name\", \"field_position\"], axis = 1)\n",
    "\n",
    "\n",
    "\n",
    "    #standardized and back to df\n",
    "    #Turn off for predictions?\n",
    "    from sklearn.preprocessing import StandardScaler\n",
    "    sc = StandardScaler()\n",
    "    value_all_train = pd.DataFrame(sc.fit_transform(value_all_train), columns = value_all_train.columns)\n",
    "    value_all_test = pd.DataFrame(sc.transform(value_all_test), columns = value_all_test.columns) #do NOT need to refit the standardization\n",
    "\n",
    "    #getting the target vector and deleting it from feature matrix\n",
    "\n",
    "    X_train_value = value_all_train.dropna(how='any', inplace=True)\n",
    "    X_train_value = value_all_train.drop([\"Value\"], axis = 1)\n",
    "    y_train_value = value_all_train[\"Value\"]\n",
    "\n",
    "\n",
    "\n",
    "    X_test_value = value_all_test.dropna(how='any', inplace=True)\n",
    "    X_test_value = value_all_test.drop([\"Value\"], axis = 1)\n",
    "    y_test_value = value_all_test[\"Value\"]\n",
    "    \n",
    "    #using selected features ANOVA + RFE\n",
    "    X_train_value_sel = X_train_value[f_reg_rfe_index] \n",
    "    X_test_value_sel = X_test_value[f_reg_rfe_index]\n",
    "    \n",
    "\n",
    "\n",
    "    L = Lasso(alpha = 0.01)\n",
    "    L.fit(X_train_value_sel, y_train_value)\n",
    "    L_pf.append(L.score(X_test_value_sel, y_test_value))\n",
    "    \n",
    "    \n",
    "    model_scores = cross_val_score(L, X_train_value_sel, y_train_value, cv=5)\n",
    "    L_pf_cv.append((model_scores.mean()))"
   ]
  },
  {
   "cell_type": "code",
   "execution_count": 413,
   "id": "e8f8ef63-759c-41b0-a59d-c38bd8ca3a92",
   "metadata": {},
   "outputs": [
    {
     "name": "stdout",
     "output_type": "stream",
     "text": [
      "0.9857558940050496\n",
      "0.9849533376763533\n"
     ]
    }
   ],
   "source": [
    "print(np.mean(L_pf))\n",
    "print(np.mean(L_pf_cv))"
   ]
  },
  {
   "cell_type": "markdown",
   "id": "02ce154c-040d-449b-a686-4880712ae82a",
   "metadata": {
    "tags": []
   },
   "source": [
    "#### Mini Experiment: Holdout Set Vs. Cross-Validation Method"
   ]
  },
  {
   "cell_type": "markdown",
   "id": "52f36227-defa-4b63-8527-f2e97e38e57d",
   "metadata": {},
   "source": [
    "#### Take-Aways: \n",
    "- Performace:  \n",
    "- Mini-Experiment: Huge discrepancy between holdout method and cross validation method, due to sample size??? double check with larger dataset, and do an experiment"
   ]
  },
  {
   "cell_type": "code",
   "execution_count": 138,
   "id": "5ea79e3a-fd80-4196-bb70-4b19c8887d6a",
   "metadata": {},
   "outputs": [],
   "source": [
    "lr_pf = []\n",
    "Lasso_pf = []\n",
    "rfr_pf = []\n",
    "\n",
    "X_train_fee_sel = X_train_fee[['value_eur', 'overall', 'potential', 'wage_eur', 'passing',\n",
    "       'goalkeeping_kicking', 'position_y', 'wins', 'missed', 'pts', 'xG',\n",
    "       'npxG', 'xGA', 'npxGD', 'oppda_coef', 'deep', 'xpts', 'xpts_diff',\n",
    "       'SPI', 'tranfer_activity', 'fee_cleaned_buyer_avg',\n",
    "       'fee_cleaned_seller_avg']]\n",
    "\n",
    "X_test_fee_sel = X_test_fee[['value_eur', 'overall', 'potential', 'wage_eur', 'passing',\n",
    "       'goalkeeping_kicking', 'position_y', 'wins', 'missed', 'pts', 'xG',\n",
    "       'npxG', 'xGA', 'npxGD', 'oppda_coef', 'deep', 'xpts', 'xpts_diff',\n",
    "       'SPI', 'tranfer_activity', 'fee_cleaned_buyer_avg',\n",
    "       'fee_cleaned_seller_avg']]\n",
    "\n",
    "for i in range(1,10):\n",
    "    from sklearn.model_selection import train_test_split\n",
    "    field_tf_upd_train, field_tf_upd_test = train_test_split(tf2_data_field, test_size = .2, shuffle = True)\n",
    "\n",
    "    #getting the feature matrix and target vector\n",
    "    # field_tf_upd_train = field_tf_upd_train[field_tf_upd_train.columns[0:8]] #use this!!!\n",
    "    # field_tf_upd_test = field_tf_upd_test[field_tf_upd_test.columns[0:8]] #use this!!!\n",
    "\n",
    "\n",
    "\n",
    "    #re-clean; non-numerical stuff\n",
    "    field_tf_upd_train = field_tf_upd_train.drop([\"team\"], axis = 1)\n",
    "    field_tf_upd_train = field_tf_upd_train.drop([\"player_name\"], axis = 1)\n",
    "    field_tf_upd_train = field_tf_upd_train.drop([\"nationality_name\"], axis = 1)\n",
    "    field_tf_upd_train = field_tf_upd_train.drop([\"position_x\"], axis = 1)\n",
    "    field_tf_upd_train = field_tf_upd_train.drop([\"league_name_x_y\"], axis = 1)\n",
    "    field_tf_upd_train = field_tf_upd_train.drop([\"club_involved_name\"], axis = 1)\n",
    "\n",
    "    #re-clean; non-numerical stuff\n",
    "    field_tf_upd_test = field_tf_upd_test.drop([\"team\"], axis = 1)\n",
    "    field_tf_upd_test = field_tf_upd_test.drop([\"player_name\"], axis = 1)\n",
    "    field_tf_upd_test = field_tf_upd_test.drop([\"nationality_name\"], axis = 1)\n",
    "    field_tf_upd_test = field_tf_upd_test.drop([\"position_x\"], axis = 1)\n",
    "    field_tf_upd_test = field_tf_upd_test.drop([\"league_name_x_y\"], axis = 1)\n",
    "    field_tf_upd_test = field_tf_upd_test.drop([\"club_involved_name\"], axis = 1)\n",
    "\n",
    "\n",
    "    #TURN OFF FOR PREDICTIONS\n",
    "    #standardized and back to df\n",
    "    from sklearn.preprocessing import StandardScaler\n",
    "    sc = StandardScaler()\n",
    "    field_tf_upd_train = pd.DataFrame(sc.fit_transform(field_tf_upd_train), columns = field_tf_upd_train.columns)\n",
    "\n",
    "\n",
    "    sc = StandardScaler()\n",
    "    field_tf_upd_test = pd.DataFrame(sc.fit_transform(field_tf_upd_test), columns = field_tf_upd_test.columns)\n",
    "\n",
    "\n",
    "    X_train_fee = field_tf_upd_train.drop([\"fee_cleaned\"], axis = 1)\n",
    "    y_train_fee = field_tf_upd_train[\"fee_cleaned\"]\n",
    "\n",
    "    X_test_fee = field_tf_upd_test.drop([\"fee_cleaned\"], axis = 1)\n",
    "    y_test_fee = field_tf_upd_test[\"fee_cleaned\"] # do this to get it by index; want to reset the index\n",
    "\n",
    "\n",
    "    \n",
    "    \n",
    "    lr.fit(X_train_fee_sel, y_train_fee)\n",
    "    lr.score(X_test_fee_sel, y_test_fee)\n",
    "\n",
    "    from sklearn.model_selection import cross_val_score\n",
    "    model_scores = cross_val_score(lr, X_train_fee_sel, y_train_fee, cv=5)\n",
    "    lr_pf.append((model_scores.mean()))\n",
    "    \n",
    "    Lassolr99 = Lasso(alpha = 0.005)\n",
    "    Lassolr99.fit(X_train_fee, y_train_fee)\n",
    "    model_scores = cross_val_score(Lassolr99, X_train_fee, y_train_fee, cv=5)\n",
    "    Lasso_pf.append(model_scores.mean())\n",
    "    \n",
    "    regr = RandomForestRegressor(max_depth = 11, random_state=0)\n",
    "    regr.fit(X_train_fee, y_train_fee)\n",
    "    model_scores = cross_val_score(regr, X_train_fee, y_train_fee, cv=5)\n",
    "    rfr_pf.append(model_scores.mean())\n",
    "\n",
    "\n"
   ]
  },
  {
   "cell_type": "code",
   "execution_count": 139,
   "id": "2384f4dc-96ad-4c59-8838-94ce96f52137",
   "metadata": {},
   "outputs": [
    {
     "name": "stdout",
     "output_type": "stream",
     "text": [
      "-0.1268773090295002\n",
      "0.63520543291876\n",
      "0.642731242587884\n"
     ]
    }
   ],
   "source": [
    "print(np.mean(lr_pf))\n",
    "print(np.mean(Lasso_pf))\n",
    "print(np.mean(rfr_pf))"
   ]
  }
 ],
 "metadata": {
  "kernelspec": {
   "display_name": "Python [conda env:ml-0451] *",
   "language": "python",
   "name": "conda-env-ml-0451-py"
  },
  "language_info": {
   "codemirror_mode": {
    "name": "ipython",
    "version": 3
   },
   "file_extension": ".py",
   "mimetype": "text/x-python",
   "name": "python",
   "nbconvert_exporter": "python",
   "pygments_lexer": "ipython3",
   "version": "3.9.16"
  }
 },
 "nbformat": 4,
 "nbformat_minor": 5
}
