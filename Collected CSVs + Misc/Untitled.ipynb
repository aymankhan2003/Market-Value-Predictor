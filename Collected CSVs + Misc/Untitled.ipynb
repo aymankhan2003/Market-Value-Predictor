{
 "cells": [
  {
   "cell_type": "raw",
   "id": "43db2af5-db8a-4d39-a842-684f5102d49c",
   "metadata": {},
   "source": []
  },
  {
   "cell_type": "code",
   "execution_count": 48,
   "id": "c6f1d963-d3ba-4374-911f-e48b2c7227db",
   "metadata": {},
   "outputs": [],
   "source": [
    "from matplotlib import pyplot as plt\n",
    "import numpy as np\n",
    "np.random.seed(12345)"
   ]
  },
  {
   "cell_type": "code",
   "execution_count": 49,
   "id": "775d42ce-f88a-463c-aba2-1a6d81fb1964",
   "metadata": {},
   "outputs": [
    {
     "data": {
      "text/plain": [
       "array([[ 9.13529168, 10.08864293,  9.79983627,  7.96281575,  9.16690253,\n",
       "         4.95614303,  6.94602586],\n",
       "       [ 8.0476985 , 10.32489439,  9.89787725,  8.94229127,  8.01241213,\n",
       "         5.03026136,  7.05237721],\n",
       "       [ 7.00009403,  8.13438098,  7.9286456 ,  6.91688465,  6.76297683,\n",
       "         3.81392392,  5.91392426],\n",
       "       [ 9.05601453,  9.87340655, 10.01198271,  7.89364876,  9.03328827,\n",
       "         4.76405812,  6.9800457 ],\n",
       "       [ 8.84580045,  9.90292641,  9.86929697,  8.02863497,  9.03779841,\n",
       "         4.92461135,  7.03312857]])"
      ]
     },
     "execution_count": 49,
     "metadata": {},
     "output_type": "execute_result"
    }
   ],
   "source": [
    "#create m * n matrix\n",
    "a_1 = np.random.randint(1, 3, (5, 3))\n",
    "a_2 = np.random.randint(1, 3, (3, 7))\n",
    "\n",
    "A = a_1 @ a_2 + 0.1*np.random.randn(5, 7) #create matrix + add noise\n",
    "A"
   ]
  },
  {
   "cell_type": "code",
   "execution_count": 50,
   "id": "2fc4d029-157c-451b-8a8c-e9bd130e71a8",
   "metadata": {},
   "outputs": [
    {
     "data": {
      "image/png": "[encoded data removed]",
      "text/plain": [
       "<Figure size 640x480 with 1 Axes>"
      ]
     },
     "metadata": {},
     "output_type": "display_data"
    }
   ],
   "source": [
    "plt.imshow(A, cmap = \"Greys\")\n",
    "a = plt.gca().axis(\"off\")"
   ]
  },
  {
   "cell_type": "code",
   "execution_count": 51,
   "id": "0068df4d-a629-4ada-974b-98d7d2e2a1e9",
   "metadata": {},
   "outputs": [],
   "source": [
    "U, sigma, V = np.linalg.svd(A)"
   ]
  },
  {
   "cell_type": "code",
   "execution_count": 52,
   "id": "d1802429-48db-4ddc-98d9-ebdc167a16c9",
   "metadata": {},
   "outputs": [],
   "source": [
    "# create the D matrix in the SVD\n",
    "D = np.zeros_like(A,dtype=float) # matrix of zeros of same shape as A\n",
    "D[:min(A.shape),:min(A.shape)] = np.diag(sigma)        # singular values on the main diagonal"
   ]
  },
  {
   "cell_type": "code",
   "execution_count": 61,
   "id": "ff26a3ba-b7e7-4b59-a01e-cf46b963978b",
   "metadata": {},
   "outputs": [
    {
     "data": {
      "text/plain": [
       "0"
      ]
     },
     "execution_count": 61,
     "metadata": {},
     "output_type": "execute_result"
    }
   ],
   "source": [
    "np.argmax(sigma > 0.4)"
   ]
  },
  {
   "cell_type": "code",
   "execution_count": 59,
   "id": "33239b2b-f28e-466b-93be-998c3fd1faf6",
   "metadata": {},
   "outputs": [
    {
     "data": {
      "text/plain": [
       "array([47.92787806,  1.59525638,  0.35772778,  0.23426796,  0.15684841])"
      ]
     },
     "execution_count": 59,
     "metadata": {},
     "output_type": "execute_result"
    }
   ],
   "source": [
    "sigma"
   ]
  },
  {
   "cell_type": "code",
   "execution_count": 63,
   "id": "059f9127-855d-41fe-99c7-95f778284c14",
   "metadata": {},
   "outputs": [
    {
     "data": {
      "text/plain": [
       "2"
      ]
     },
     "execution_count": 63,
     "metadata": {},
     "output_type": "execute_result"
    }
   ],
   "source": [
    "sigma.size - np.searchsorted(sigma[::-1], 0.4, side = \"right\")"
   ]
  },
  {
   "cell_type": "code",
   "execution_count": 245,
   "id": "1d93d4b8-2b52-44d6-b2ac-8651da6bb6a8",
   "metadata": {},
   "outputs": [
    {
     "data": {
      "text/plain": [
       "array([[ 9.13529168, 10.08864293,  9.79983627,  7.96281575,  9.16690253,\n",
       "         4.95614303,  6.94602586],\n",
       "       [ 8.0476985 , 10.32489439,  9.89787725,  8.94229127,  8.01241213,\n",
       "         5.03026136,  7.05237721],\n",
       "       [ 7.00009403,  8.13438098,  7.9286456 ,  6.91688465,  6.76297683,\n",
       "         3.81392392,  5.91392426],\n",
       "       [ 9.05601453,  9.87340655, 10.01198271,  7.89364876,  9.03328827,\n",
       "         4.76405812,  6.9800457 ],\n",
       "       [ 8.84580045,  9.90292641,  9.86929697,  8.02863497,  9.03779841,\n",
       "         4.92461135,  7.03312857]])"
      ]
     },
     "execution_count": 245,
     "metadata": {},
     "output_type": "execute_result"
    }
   ],
   "source": [
    "U @ D @ V # == A up to numerical precision"
   ]
  },
  {
   "cell_type": "code",
   "execution_count": 246,
   "id": "bef61c33-574d-4c27-b84b-e80db5b220c4",
   "metadata": {},
   "outputs": [],
   "source": [
    "k = 8\n",
    "U_ = U[:,:k]\n",
    "D_ = D[:k, :k]\n",
    "V_ = V[:k, :]"
   ]
  },
  {
   "cell_type": "code",
   "execution_count": 247,
   "id": "d27a8b7f-0b12-4576-91d7-4905723dc2ed",
   "metadata": {},
   "outputs": [],
   "source": [
    "A_ = U_ @ D_ @ V_"
   ]
  },
  {
   "cell_type": "code",
   "execution_count": 252,
   "id": "6600c635-4b4a-4aa2-9410-fea49d186259",
   "metadata": {},
   "outputs": [
    {
     "name": "stdout",
     "output_type": "stream",
     "text": [
      "0.33653846153846156\n"
     ]
    },
    {
     "data": {
      "text/plain": [
       "True"
      ]
     },
     "execution_count": 252,
     "metadata": {},
     "output_type": "execute_result"
    }
   ],
   "source": [
    "print(int(A.shape[0]* A.shape[1])/(A_.shape[0]*k + k + k*A_.shape[1]))\n",
    "\n",
    "\n",
    "8 == int((A.shape[0]* A.shape[1]) / (0.33653846153846156 * (A.shape[0]+A.shape[1]+1)))\n"
   ]
  },
  {
   "cell_type": "code",
   "execution_count": 177,
   "id": "974aa3f7-7724-4186-9b02-fed02fd780cc",
   "metadata": {},
   "outputs": [
    {
     "data": {
      "image/png": "[encoded data removed]",
      "text/plain": [
       "<Figure size 700x300 with 2 Axes>"
      ]
     },
     "metadata": {},
     "output_type": "display_data"
    }
   ],
   "source": [
    "def compare_images(A, A_):\n",
    "\n",
    "    fig, axarr = plt.subplots(1, 2, figsize = (7, 3))\n",
    "\n",
    "    axarr[0].imshow(A, cmap = \"Greys\")\n",
    "    axarr[0].axis(\"off\")\n",
    "    axarr[0].set(title = \"original image\")\n",
    "\n",
    "    axarr[1].imshow(A_, cmap = \"Greys\")\n",
    "    axarr[1].axis(\"off\")\n",
    "    axarr[1].set(title = \"reconstructed image\")\n",
    "\n",
    "compare_images(A, A_)"
   ]
  },
  {
   "cell_type": "code",
   "execution_count": 44,
   "id": "ec220e90-cb7e-4241-977e-b275f34f2c3d",
   "metadata": {},
   "outputs": [],
   "source": [
    "#The pictures will be our matrix"
   ]
  }
 ],
 "metadata": {
  "kernelspec": {
   "display_name": "Python [conda env:ml-0451] *",
   "language": "python",
   "name": "conda-env-ml-0451-py"
  },
  "language_info": {
   "codemirror_mode": {
    "name": "ipython",
    "version": 3
   },
   "file_extension": ".py",
   "mimetype": "text/x-python",
   "name": "python",
   "nbconvert_exporter": "python",
   "pygments_lexer": "ipython3",
   "version": "3.9.16"
  }
 },
 "nbformat": 4,
 "nbformat_minor": 5
}
